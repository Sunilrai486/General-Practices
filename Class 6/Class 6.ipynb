{
 "cells": [
  {
   "cell_type": "code",
   "execution_count": 2,
   "id": "a1a89505",
   "metadata": {},
   "outputs": [],
   "source": [
    "import numpy as np"
   ]
  },
  {
   "cell_type": "code",
   "execution_count": 3,
   "id": "237d128c",
   "metadata": {},
   "outputs": [],
   "source": [
    "vector_row = np.array([1, 2, 3])"
   ]
  },
  {
   "cell_type": "code",
   "execution_count": 8,
   "id": "c942698d",
   "metadata": {},
   "outputs": [],
   "source": [
    "vector = np.array([1, 2, 3, 4, 5, 6])"
   ]
  },
  {
   "cell_type": "code",
   "execution_count": 9,
   "id": "efe80932",
   "metadata": {},
   "outputs": [
    {
     "data": {
      "text/plain": [
       "3"
      ]
     },
     "execution_count": 9,
     "metadata": {},
     "output_type": "execute_result"
    }
   ],
   "source": [
    "vector[2]"
   ]
  },
  {
   "cell_type": "code",
   "execution_count": 10,
   "id": "3709c174",
   "metadata": {},
   "outputs": [
    {
     "data": {
      "text/plain": [
       "3"
      ]
     },
     "execution_count": 10,
     "metadata": {},
     "output_type": "execute_result"
    }
   ],
   "source": [
    "vector[-4]"
   ]
  },
  {
   "cell_type": "code",
   "execution_count": 11,
   "id": "e145c34a",
   "metadata": {},
   "outputs": [
    {
     "data": {
      "text/plain": [
       "array([2, 3, 4])"
      ]
     },
     "execution_count": 11,
     "metadata": {},
     "output_type": "execute_result"
    }
   ],
   "source": [
    "vector[1:4]"
   ]
  },
  {
   "cell_type": "code",
   "execution_count": 13,
   "id": "a5d2c059",
   "metadata": {},
   "outputs": [
    {
     "data": {
      "text/plain": [
       "array([2, 3, 4])"
      ]
     },
     "execution_count": 13,
     "metadata": {},
     "output_type": "execute_result"
    }
   ],
   "source": [
    "vector[-5:-2]"
   ]
  },
  {
   "cell_type": "code",
   "execution_count": 31,
   "id": "0bd726cc",
   "metadata": {},
   "outputs": [
    {
     "data": {
      "text/plain": [
       "array([4, 3, 2])"
      ]
     },
     "execution_count": 31,
     "metadata": {},
     "output_type": "execute_result"
    }
   ],
   "source": [
    "vector[1:4][::-1]"
   ]
  },
  {
   "cell_type": "code",
   "execution_count": 36,
   "id": "f0f20291",
   "metadata": {},
   "outputs": [
    {
     "data": {
      "text/plain": [
       "5"
      ]
     },
     "execution_count": 36,
     "metadata": {},
     "output_type": "execute_result"
    }
   ],
   "source": [
    "np.where(vector == 6)[0][0]"
   ]
  },
  {
   "cell_type": "code",
   "execution_count": 44,
   "id": "1f0f3d9a",
   "metadata": {},
   "outputs": [],
   "source": [
    "vector = np.append(vector, 2)"
   ]
  },
  {
   "cell_type": "code",
   "execution_count": 53,
   "id": "26905e0f",
   "metadata": {},
   "outputs": [
    {
     "name": "stdout",
     "output_type": "stream",
     "text": [
      "1\n",
      "6\n"
     ]
    }
   ],
   "source": [
    "for num in np.where(vector == 2)[0]:\n",
    "    print(num)"
   ]
  },
  {
   "cell_type": "code",
   "execution_count": 64,
   "id": "3ea47ccf",
   "metadata": {},
   "outputs": [],
   "source": [
    "matrix = np.array([\n",
    "    [1, 2, 3],\n",
    "    [4, 5, 6],\n",
    "    [7, 8, 9]\n",
    "])"
   ]
  },
  {
   "cell_type": "code",
   "execution_count": 73,
   "id": "f880f8ff",
   "metadata": {},
   "outputs": [
    {
     "data": {
      "text/plain": [
       "5"
      ]
     },
     "execution_count": 73,
     "metadata": {},
     "output_type": "execute_result"
    }
   ],
   "source": [
    "matrix[-2, -2]"
   ]
  },
  {
   "cell_type": "code",
   "execution_count": 74,
   "id": "4552a370",
   "metadata": {},
   "outputs": [
    {
     "data": {
      "text/plain": [
       "array([[4, 5, 6]])"
      ]
     },
     "execution_count": 74,
     "metadata": {},
     "output_type": "execute_result"
    }
   ],
   "source": [
    "matrix[[1]]"
   ]
  },
  {
   "cell_type": "code",
   "execution_count": 88,
   "id": "4a6ced39",
   "metadata": {},
   "outputs": [
    {
     "data": {
      "text/plain": [
       "array([[5, 6],\n",
       "       [8, 9]])"
      ]
     },
     "execution_count": 88,
     "metadata": {},
     "output_type": "execute_result"
    }
   ],
   "source": [
    "matrix[-2:, -2:]"
   ]
  },
  {
   "cell_type": "code",
   "execution_count": 95,
   "id": "23ba5a5f",
   "metadata": {},
   "outputs": [
    {
     "data": {
      "text/plain": [
       "array([[5, 6],\n",
       "       [8, 9]])"
      ]
     },
     "execution_count": 95,
     "metadata": {},
     "output_type": "execute_result"
    }
   ],
   "source": [
    "matrix[1:, 1:]"
   ]
  },
  {
   "cell_type": "code",
   "execution_count": 96,
   "id": "cca17bfd",
   "metadata": {},
   "outputs": [
    {
     "data": {
      "text/plain": [
       "(3, 3)"
      ]
     },
     "execution_count": 96,
     "metadata": {},
     "output_type": "execute_result"
    }
   ],
   "source": [
    "matrix.shape"
   ]
  },
  {
   "cell_type": "code",
   "execution_count": 97,
   "id": "b13ff497",
   "metadata": {},
   "outputs": [
    {
     "data": {
      "text/plain": [
       "9"
      ]
     },
     "execution_count": 97,
     "metadata": {},
     "output_type": "execute_result"
    }
   ],
   "source": [
    "matrix.size"
   ]
  },
  {
   "cell_type": "code",
   "execution_count": 98,
   "id": "47264f8d",
   "metadata": {},
   "outputs": [
    {
     "data": {
      "text/plain": [
       "2"
      ]
     },
     "execution_count": 98,
     "metadata": {},
     "output_type": "execute_result"
    }
   ],
   "source": [
    "matrix.ndim"
   ]
  },
  {
   "cell_type": "code",
   "execution_count": 99,
   "id": "1e0dca1c",
   "metadata": {},
   "outputs": [],
   "source": [
    "vector_a = np.array([1, 2, 3])"
   ]
  },
  {
   "cell_type": "code",
   "execution_count": 100,
   "id": "d7623a4c",
   "metadata": {},
   "outputs": [],
   "source": [
    "vector_b = np.array([4, 5, 6])"
   ]
  },
  {
   "cell_type": "code",
   "execution_count": 115,
   "id": "afe251a7",
   "metadata": {},
   "outputs": [
    {
     "data": {
      "text/plain": [
       "32"
      ]
     },
     "execution_count": 115,
     "metadata": {},
     "output_type": "execute_result"
    }
   ],
   "source": [
    "dotab = np.dot(vector_a, vector_b)\n",
    "dotab"
   ]
  },
  {
   "cell_type": "code",
   "execution_count": 116,
   "id": "7d3afaf0",
   "metadata": {},
   "outputs": [
    {
     "data": {
      "text/plain": [
       "3.7416573867739413"
      ]
     },
     "execution_count": 116,
     "metadata": {},
     "output_type": "execute_result"
    }
   ],
   "source": [
    "a_mag = np.sqrt(np.square(vector_a[0]) + np.square(vector_a[1]) + np.square(vector_a[2]))\n",
    "a_mag"
   ]
  },
  {
   "cell_type": "code",
   "execution_count": 118,
   "id": "91ed0db5",
   "metadata": {},
   "outputs": [
    {
     "data": {
      "text/plain": [
       "8.774964387392123"
      ]
     },
     "execution_count": 118,
     "metadata": {},
     "output_type": "execute_result"
    }
   ],
   "source": [
    "b_mag = np.sqrt(np.square(vector_b[0]) + np.square(vector_b[1]) + np.square(vector_b[2]))\n",
    "b_mag"
   ]
  },
  {
   "cell_type": "code",
   "execution_count": 119,
   "id": "a2821dcd",
   "metadata": {},
   "outputs": [
    {
     "data": {
      "text/plain": [
       "0.9746318461970762"
      ]
     },
     "execution_count": 119,
     "metadata": {},
     "output_type": "execute_result"
    }
   ],
   "source": [
    "result = dotab / (a_mag * b_mag)\n",
    "result"
   ]
  },
  {
   "cell_type": "code",
   "execution_count": 133,
   "id": "59b8f2de",
   "metadata": {},
   "outputs": [
    {
     "data": {
      "text/plain": [
       "0.2257261285527342"
      ]
     },
     "execution_count": 133,
     "metadata": {},
     "output_type": "execute_result"
    }
   ],
   "source": [
    "cos = np.arccos(result)\n",
    "cos"
   ]
  },
  {
   "cell_type": "code",
   "execution_count": 134,
   "id": "20f1f899",
   "metadata": {},
   "outputs": [
    {
     "data": {
      "text/plain": [
       "12.933154491899135"
      ]
     },
     "execution_count": 134,
     "metadata": {},
     "output_type": "execute_result"
    }
   ],
   "source": [
    "import math\n",
    "cosineangle = (cos * 180)/ math.pi\n",
    "cosineangle"
   ]
  },
  {
   "cell_type": "code",
   "execution_count": 135,
   "id": "56e078fd",
   "metadata": {},
   "outputs": [],
   "source": [
    "matrix_a = np.array([\n",
    "    [1, 1, 1],\n",
    "    [1, 1, 1],\n",
    "    [1, 1, 2]\n",
    "])"
   ]
  },
  {
   "cell_type": "code",
   "execution_count": 136,
   "id": "835e6a49",
   "metadata": {},
   "outputs": [],
   "source": [
    "matrix_b = np.array([\n",
    "    [1, 3, 1],\n",
    "    [1, 3, 1],\n",
    "    [1, 3, 8]\n",
    "])"
   ]
  },
  {
   "cell_type": "code",
   "execution_count": 137,
   "id": "e5b7b100",
   "metadata": {},
   "outputs": [
    {
     "data": {
      "text/plain": [
       "array([[ 2,  4,  2],\n",
       "       [ 2,  4,  2],\n",
       "       [ 2,  4, 10]])"
      ]
     },
     "execution_count": 137,
     "metadata": {},
     "output_type": "execute_result"
    }
   ],
   "source": [
    "np.add(matrix_a, matrix_b)"
   ]
  },
  {
   "cell_type": "code",
   "execution_count": 138,
   "id": "2fc34020",
   "metadata": {},
   "outputs": [
    {
     "data": {
      "text/plain": [
       "array([[ 0, -2,  0],\n",
       "       [ 0, -2,  0],\n",
       "       [ 0, -2, -6]])"
      ]
     },
     "execution_count": 138,
     "metadata": {},
     "output_type": "execute_result"
    }
   ],
   "source": [
    "np.subtract(matrix_a, matrix_b)"
   ]
  },
  {
   "cell_type": "code",
   "execution_count": 142,
   "id": "d8e064bc",
   "metadata": {},
   "outputs": [],
   "source": [
    "a = [[1, 2], \n",
    "     [2, 3]]\n",
    "b = [[3, 5], \n",
    "     [5, 9]]"
   ]
  },
  {
   "cell_type": "code",
   "execution_count": 143,
   "id": "2817f3a2",
   "metadata": {},
   "outputs": [
    {
     "name": "stdout",
     "output_type": "stream",
     "text": [
      "[[13 23]\n",
      " [21 37]]\n"
     ]
    }
   ],
   "source": [
    "c = np.matmul(a, b)\n",
    "print(c)"
   ]
  },
  {
   "cell_type": "code",
   "execution_count": 199,
   "id": "5a542406",
   "metadata": {},
   "outputs": [
    {
     "name": "stdout",
     "output_type": "stream",
     "text": [
      "13\n",
      "23\n",
      "21\n",
      "37\n"
     ]
    }
   ],
   "source": [
    "c = [[0, 0],\n",
    "    [0, 0]]\n",
    "for aval in a:\n",
    "    for bval in b:\n",
    "        result = (aval[0] * bval[0]) + (aval[1] * bval[1])\n",
    "        print(result)"
   ]
  },
  {
   "cell_type": "code",
   "execution_count": 151,
   "id": "9678d158",
   "metadata": {},
   "outputs": [],
   "source": [
    "matrix = np.array([\n",
    "    [1, 2, 3],\n",
    "    [4, 5, 6],\n",
    "    [7, 8, 9]\n",
    "])"
   ]
  },
  {
   "cell_type": "code",
   "execution_count": 152,
   "id": "fb39cf55",
   "metadata": {},
   "outputs": [
    {
     "data": {
      "text/plain": [
       "array([[101, 102, 103],\n",
       "       [104, 105, 106],\n",
       "       [107, 108, 109]])"
      ]
     },
     "execution_count": 152,
     "metadata": {},
     "output_type": "execute_result"
    }
   ],
   "source": [
    "matrix + 100"
   ]
  },
  {
   "cell_type": "code",
   "execution_count": 153,
   "id": "43f24ba6",
   "metadata": {},
   "outputs": [
    {
     "name": "stdout",
     "output_type": "stream",
     "text": [
      "[[1 2 3]\n",
      " [2 4 6]\n",
      " [7 8 9]]\n"
     ]
    }
   ],
   "source": [
    "matrix = np.array([[1, 2, 3], [2, 4, 6], [7, 8, 9]])\n",
    "print(matrix)"
   ]
  },
  {
   "cell_type": "code",
   "execution_count": 154,
   "id": "0752cfed",
   "metadata": {},
   "outputs": [],
   "source": [
    "add_100 = lambda i: i + 100"
   ]
  },
  {
   "cell_type": "code",
   "execution_count": 155,
   "id": "20ad4164",
   "metadata": {},
   "outputs": [],
   "source": [
    "vectorized_100 = np.vectorize(add_100)"
   ]
  },
  {
   "cell_type": "code",
   "execution_count": 156,
   "id": "3f62f495",
   "metadata": {},
   "outputs": [
    {
     "name": "stdout",
     "output_type": "stream",
     "text": [
      "<function <lambda> at 0x00000238B3A5AF70>\n"
     ]
    }
   ],
   "source": [
    "print(add_100)"
   ]
  },
  {
   "cell_type": "code",
   "execution_count": 158,
   "id": "9e008d99",
   "metadata": {},
   "outputs": [
    {
     "name": "stdout",
     "output_type": "stream",
     "text": [
      "[[101 102 103]\n",
      " [102 104 106]\n",
      " [107 108 109]]\n"
     ]
    }
   ],
   "source": [
    "print(vectorized_100(matrix))"
   ]
  },
  {
   "cell_type": "code",
   "execution_count": 161,
   "id": "1809593f",
   "metadata": {},
   "outputs": [],
   "source": [
    "x = lambda a: 100 + a"
   ]
  },
  {
   "cell_type": "code",
   "execution_count": 162,
   "id": "a3045df5",
   "metadata": {},
   "outputs": [
    {
     "data": {
      "text/plain": [
       "110"
      ]
     },
     "execution_count": 162,
     "metadata": {},
     "output_type": "execute_result"
    }
   ],
   "source": [
    "x(10)"
   ]
  },
  {
   "cell_type": "code",
   "execution_count": 163,
   "id": "3b5ef161",
   "metadata": {},
   "outputs": [],
   "source": [
    "x = lambda a, b, c: a * b * c"
   ]
  },
  {
   "cell_type": "code",
   "execution_count": 164,
   "id": "a0b8d50a",
   "metadata": {},
   "outputs": [
    {
     "data": {
      "text/plain": [
       "6"
      ]
     },
     "execution_count": 164,
     "metadata": {},
     "output_type": "execute_result"
    }
   ],
   "source": [
    "x(1, 2, 3)"
   ]
  },
  {
   "cell_type": "code",
   "execution_count": 165,
   "id": "77ab20a1",
   "metadata": {},
   "outputs": [
    {
     "data": {
      "text/plain": [
       "9"
      ]
     },
     "execution_count": 165,
     "metadata": {},
     "output_type": "execute_result"
    }
   ],
   "source": [
    "np.max(matrix)"
   ]
  },
  {
   "cell_type": "code",
   "execution_count": 166,
   "id": "35337c22",
   "metadata": {},
   "outputs": [
    {
     "data": {
      "text/plain": [
       "1"
      ]
     },
     "execution_count": 166,
     "metadata": {},
     "output_type": "execute_result"
    }
   ],
   "source": [
    "np.min(matrix)"
   ]
  },
  {
   "cell_type": "code",
   "execution_count": 167,
   "id": "fa4457ae",
   "metadata": {},
   "outputs": [
    {
     "data": {
      "text/plain": [
       "array([7, 8, 9])"
      ]
     },
     "execution_count": 167,
     "metadata": {},
     "output_type": "execute_result"
    }
   ],
   "source": [
    "np.max(matrix, axis = 0)"
   ]
  },
  {
   "cell_type": "code",
   "execution_count": 168,
   "id": "6c1286b1",
   "metadata": {},
   "outputs": [
    {
     "data": {
      "text/plain": [
       "array([3, 6, 9])"
      ]
     },
     "execution_count": 168,
     "metadata": {},
     "output_type": "execute_result"
    }
   ],
   "source": [
    "np.max(matrix, axis = 1)"
   ]
  },
  {
   "cell_type": "code",
   "execution_count": 171,
   "id": "1c90b5e7",
   "metadata": {},
   "outputs": [
    {
     "data": {
      "text/plain": [
       "5.0"
      ]
     },
     "execution_count": 171,
     "metadata": {},
     "output_type": "execute_result"
    }
   ],
   "source": [
    "matrix = np.array([\n",
    "    [1, 2, 3],\n",
    "    [4, 5, 6],\n",
    "    [7, 8, 9]\n",
    "])\n",
    "np.mean(matrix)"
   ]
  },
  {
   "cell_type": "code",
   "execution_count": 172,
   "id": "c81d614f",
   "metadata": {},
   "outputs": [
    {
     "data": {
      "text/plain": [
       "6.666666666666667"
      ]
     },
     "execution_count": 172,
     "metadata": {},
     "output_type": "execute_result"
    }
   ],
   "source": [
    "np.var(matrix)"
   ]
  },
  {
   "cell_type": "code",
   "execution_count": 173,
   "id": "4da06e43",
   "metadata": {},
   "outputs": [
    {
     "data": {
      "text/plain": [
       "2.581988897471611"
      ]
     },
     "execution_count": 173,
     "metadata": {},
     "output_type": "execute_result"
    }
   ],
   "source": [
    "np.std(matrix)"
   ]
  },
  {
   "cell_type": "code",
   "execution_count": 174,
   "id": "bd5bf0ed",
   "metadata": {},
   "outputs": [
    {
     "data": {
      "text/plain": [
       "array([4., 5., 6.])"
      ]
     },
     "execution_count": 174,
     "metadata": {},
     "output_type": "execute_result"
    }
   ],
   "source": [
    "np.mean(matrix, axis = 0)"
   ]
  },
  {
   "cell_type": "code",
   "execution_count": 175,
   "id": "aaacb197",
   "metadata": {},
   "outputs": [
    {
     "data": {
      "text/plain": [
       "array([2., 5., 8.])"
      ]
     },
     "execution_count": 175,
     "metadata": {},
     "output_type": "execute_result"
    }
   ],
   "source": [
    "np.mean(matrix, axis = 1)"
   ]
  },
  {
   "cell_type": "code",
   "execution_count": 176,
   "id": "c76c5ce8",
   "metadata": {},
   "outputs": [
    {
     "data": {
      "text/plain": [
       "array([ 5, 10,  4])"
      ]
     },
     "execution_count": 176,
     "metadata": {},
     "output_type": "execute_result"
    }
   ],
   "source": [
    "np.random.randint(0, 11, 3)"
   ]
  },
  {
   "cell_type": "code",
   "execution_count": 183,
   "id": "147fda0c",
   "metadata": {},
   "outputs": [
    {
     "data": {
      "text/plain": [
       "array([ 3723, 10150,  7934, ...,   173,  2879,  8862])"
      ]
     },
     "execution_count": 183,
     "metadata": {},
     "output_type": "execute_result"
    }
   ],
   "source": [
    "nparray = np.random.randint(0, 11000, 3000)\n",
    "nparray"
   ]
  },
  {
   "cell_type": "code",
   "execution_count": 179,
   "id": "b74b8ea6",
   "metadata": {},
   "outputs": [
    {
     "data": {
      "text/html": [
       "<div>\n",
       "<style scoped>\n",
       "    .dataframe tbody tr th:only-of-type {\n",
       "        vertical-align: middle;\n",
       "    }\n",
       "\n",
       "    .dataframe tbody tr th {\n",
       "        vertical-align: top;\n",
       "    }\n",
       "\n",
       "    .dataframe thead th {\n",
       "        text-align: right;\n",
       "    }\n",
       "</style>\n",
       "<table border=\"1\" class=\"dataframe\">\n",
       "  <thead>\n",
       "    <tr style=\"text-align: right;\">\n",
       "      <th></th>\n",
       "      <th>0</th>\n",
       "    </tr>\n",
       "  </thead>\n",
       "  <tbody>\n",
       "    <tr>\n",
       "      <th>0</th>\n",
       "      <td>1344</td>\n",
       "    </tr>\n",
       "    <tr>\n",
       "      <th>1</th>\n",
       "      <td>2134</td>\n",
       "    </tr>\n",
       "    <tr>\n",
       "      <th>2</th>\n",
       "      <td>67</td>\n",
       "    </tr>\n",
       "    <tr>\n",
       "      <th>3</th>\n",
       "      <td>5877</td>\n",
       "    </tr>\n",
       "    <tr>\n",
       "      <th>4</th>\n",
       "      <td>8197</td>\n",
       "    </tr>\n",
       "    <tr>\n",
       "      <th>...</th>\n",
       "      <td>...</td>\n",
       "    </tr>\n",
       "    <tr>\n",
       "      <th>2995</th>\n",
       "      <td>2726</td>\n",
       "    </tr>\n",
       "    <tr>\n",
       "      <th>2996</th>\n",
       "      <td>5815</td>\n",
       "    </tr>\n",
       "    <tr>\n",
       "      <th>2997</th>\n",
       "      <td>345</td>\n",
       "    </tr>\n",
       "    <tr>\n",
       "      <th>2998</th>\n",
       "      <td>6710</td>\n",
       "    </tr>\n",
       "    <tr>\n",
       "      <th>2999</th>\n",
       "      <td>7523</td>\n",
       "    </tr>\n",
       "  </tbody>\n",
       "</table>\n",
       "<p>3000 rows × 1 columns</p>\n",
       "</div>"
      ],
      "text/plain": [
       "         0\n",
       "0     1344\n",
       "1     2134\n",
       "2       67\n",
       "3     5877\n",
       "4     8197\n",
       "...    ...\n",
       "2995  2726\n",
       "2996  5815\n",
       "2997   345\n",
       "2998  6710\n",
       "2999  7523\n",
       "\n",
       "[3000 rows x 1 columns]"
      ]
     },
     "execution_count": 179,
     "metadata": {},
     "output_type": "execute_result"
    }
   ],
   "source": [
    "import pandas as pd\n",
    "df = pd.DataFrame(nparray)\n",
    "df"
   ]
  },
  {
   "cell_type": "code",
   "execution_count": 180,
   "id": "88ebc409",
   "metadata": {},
   "outputs": [],
   "source": [
    "import matplotlib.pyplot as plt"
   ]
  },
  {
   "cell_type": "code",
   "execution_count": 181,
   "id": "7fdf81af",
   "metadata": {},
   "outputs": [
    {
     "data": {
      "text/plain": [
       "(array([313., 301., 299., 299., 292., 304., 324., 296., 267., 305.]),\n",
       " array([1.0000e+00, 1.1006e+03, 2.2002e+03, 3.2998e+03, 4.3994e+03,\n",
       "        5.4990e+03, 6.5986e+03, 7.6982e+03, 8.7978e+03, 9.8974e+03,\n",
       "        1.0997e+04]),\n",
       " <BarContainer object of 10 artists>)"
      ]
     },
     "execution_count": 181,
     "metadata": {},
     "output_type": "execute_result"
    },
    {
     "data": {
      "image/png": "[encoded data removed]",
      "text/plain": [
       "<Figure size 640x480 with 1 Axes>"
      ]
     },
     "metadata": {},
     "output_type": "display_data"
    }
   ],
   "source": [
    "plt.hist(df)"
   ]
  },
  {
   "cell_type": "code",
   "execution_count": null,
   "id": "af690391",
   "metadata": {},
   "outputs": [],
   "source": [
    "nparray = np.random.randint(0, 11000, 3000)\n",
    "nparray"
   ]
  },
  {
   "cell_type": "code",
   "execution_count": 189,
   "id": "c1f819ba",
   "metadata": {},
   "outputs": [
    {
     "data": {
      "text/plain": [
       "array([-1.02129699, -0.91987803,  0.90481588, ...,  1.17150038,\n",
       "        0.22203707,  0.74103936])"
      ]
     },
     "execution_count": 189,
     "metadata": {},
     "output_type": "execute_result"
    }
   ],
   "source": [
    "nparraynormal = np.random.normal(0.0, 1.0, 3000)\n",
    "nparraynormal"
   ]
  },
  {
   "cell_type": "code",
   "execution_count": 190,
   "id": "80d66328",
   "metadata": {},
   "outputs": [
    {
     "data": {
      "text/html": [
       "<div>\n",
       "<style scoped>\n",
       "    .dataframe tbody tr th:only-of-type {\n",
       "        vertical-align: middle;\n",
       "    }\n",
       "\n",
       "    .dataframe tbody tr th {\n",
       "        vertical-align: top;\n",
       "    }\n",
       "\n",
       "    .dataframe thead th {\n",
       "        text-align: right;\n",
       "    }\n",
       "</style>\n",
       "<table border=\"1\" class=\"dataframe\">\n",
       "  <thead>\n",
       "    <tr style=\"text-align: right;\">\n",
       "      <th></th>\n",
       "      <th>0</th>\n",
       "    </tr>\n",
       "  </thead>\n",
       "  <tbody>\n",
       "    <tr>\n",
       "      <th>0</th>\n",
       "      <td>-1.021297</td>\n",
       "    </tr>\n",
       "    <tr>\n",
       "      <th>1</th>\n",
       "      <td>-0.919878</td>\n",
       "    </tr>\n",
       "    <tr>\n",
       "      <th>2</th>\n",
       "      <td>0.904816</td>\n",
       "    </tr>\n",
       "    <tr>\n",
       "      <th>3</th>\n",
       "      <td>1.134106</td>\n",
       "    </tr>\n",
       "    <tr>\n",
       "      <th>4</th>\n",
       "      <td>1.729089</td>\n",
       "    </tr>\n",
       "    <tr>\n",
       "      <th>...</th>\n",
       "      <td>...</td>\n",
       "    </tr>\n",
       "    <tr>\n",
       "      <th>2995</th>\n",
       "      <td>1.533012</td>\n",
       "    </tr>\n",
       "    <tr>\n",
       "      <th>2996</th>\n",
       "      <td>0.638369</td>\n",
       "    </tr>\n",
       "    <tr>\n",
       "      <th>2997</th>\n",
       "      <td>1.171500</td>\n",
       "    </tr>\n",
       "    <tr>\n",
       "      <th>2998</th>\n",
       "      <td>0.222037</td>\n",
       "    </tr>\n",
       "    <tr>\n",
       "      <th>2999</th>\n",
       "      <td>0.741039</td>\n",
       "    </tr>\n",
       "  </tbody>\n",
       "</table>\n",
       "<p>3000 rows × 1 columns</p>\n",
       "</div>"
      ],
      "text/plain": [
       "             0\n",
       "0    -1.021297\n",
       "1    -0.919878\n",
       "2     0.904816\n",
       "3     1.134106\n",
       "4     1.729089\n",
       "...        ...\n",
       "2995  1.533012\n",
       "2996  0.638369\n",
       "2997  1.171500\n",
       "2998  0.222037\n",
       "2999  0.741039\n",
       "\n",
       "[3000 rows x 1 columns]"
      ]
     },
     "execution_count": 190,
     "metadata": {},
     "output_type": "execute_result"
    }
   ],
   "source": [
    "df = pd.DataFrame(nparraynormal)\n",
    "df"
   ]
  },
  {
   "cell_type": "code",
   "execution_count": 191,
   "id": "c78828dc",
   "metadata": {},
   "outputs": [
    {
     "data": {
      "text/plain": [
       "(array([ 15.,  64., 237., 475., 709., 680., 506., 225.,  67.,  22.]),\n",
       " array([-3.16751883, -2.54039704, -1.91327526, -1.28615347, -0.65903169,\n",
       "        -0.03190991,  0.59521188,  1.22233366,  1.84945545,  2.47657723,\n",
       "         3.10369901]),\n",
       " <BarContainer object of 10 artists>)"
      ]
     },
     "execution_count": 191,
     "metadata": {},
     "output_type": "execute_result"
    },
    {
     "data": {
      "image/png": "[encoded data removed]",
      "text/plain": [
       "<Figure size 640x480 with 1 Axes>"
      ]
     },
     "metadata": {},
     "output_type": "display_data"
    }
   ],
   "source": [
    "plt.hist(nparraynormal)"
   ]
  },
  {
   "cell_type": "code",
   "execution_count": 192,
   "id": "3209a0bd",
   "metadata": {},
   "outputs": [
    {
     "data": {
      "text/plain": [
       "-3.1675188269689474"
      ]
     },
     "execution_count": 192,
     "metadata": {},
     "output_type": "execute_result"
    }
   ],
   "source": [
    "np.min(nparraynormal)"
   ]
  },
  {
   "cell_type": "code",
   "execution_count": 193,
   "id": "184a1e65",
   "metadata": {},
   "outputs": [
    {
     "data": {
      "text/plain": [
       "3.1036990140077876"
      ]
     },
     "execution_count": 193,
     "metadata": {},
     "output_type": "execute_result"
    }
   ],
   "source": [
    "np.max(nparraynormal)"
   ]
  },
  {
   "cell_type": "code",
   "execution_count": null,
   "id": "d84f083b",
   "metadata": {},
   "outputs": [],
   "source": []
  }
 ],
 "metadata": {
  "kernelspec": {
   "display_name": "Python 3 (ipykernel)",
   "language": "python",
   "name": "python3"
  },
  "language_info": {
   "codemirror_mode": {
    "name": "ipython",
    "version": 3
   },
   "file_extension": ".py",
   "mimetype": "text/x-python",
   "name": "python",
   "nbconvert_exporter": "python",
   "pygments_lexer": "ipython3",
   "version": "3.9.13"
  }
 },
 "nbformat": 4,
 "nbformat_minor": 5
}
